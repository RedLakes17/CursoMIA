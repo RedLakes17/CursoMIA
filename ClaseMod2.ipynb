{
 "cells": [
  {
   "cell_type": "code",
   "execution_count": 10,
   "id": "7affcef4",
   "metadata": {},
   "outputs": [
    {
     "name": "stdout",
     "output_type": "stream",
     "text": [
      "  sexo  edad  promedio trabaja   estado\n",
      "0    M    21       8.4      Si    Bueno\n",
      "1    F    22       7.1      No  Regular\n",
      "2    F    20       9.0      Si    Bueno\n",
      "3    M    23       6.8      Si     Malo\n",
      "4    F    19       7.5      No  Regular\n"
     ]
    }
   ],
   "source": [
    "#Como cargar datos y usar pandas en general\n",
    "import pandas as pd \n",
    "\n",
    "alumnos=pd.read_csv('alumnos.csv')\n",
    "print(alumnos.head())"
   ]
  },
  {
   "cell_type": "code",
   "execution_count": 13,
   "id": "b402cd29",
   "metadata": {},
   "outputs": [
    {
     "name": "stdout",
     "output_type": "stream",
     "text": [
      "  sexo  edad  promedio trabaja   estado\n",
      "0    M    21       8.4      Si    Bueno\n",
      "1    F    22       7.1      No  Regular\n",
      "3    M    23       6.8      Si     Malo\n",
      "5    M    24       8.9      Si    Bueno\n",
      "6    M    22       6.5      No     Malo\n"
     ]
    }
   ],
   "source": [
    "print(alumnos[alumnos['edad']>20].head())"
   ]
  }
 ],
 "metadata": {
  "kernelspec": {
   "display_name": "Python 3",
   "language": "python",
   "name": "python3"
  },
  "language_info": {
   "codemirror_mode": {
    "name": "ipython",
    "version": 3
   },
   "file_extension": ".py",
   "mimetype": "text/x-python",
   "name": "python",
   "nbconvert_exporter": "python",
   "pygments_lexer": "ipython3",
   "version": "3.11.9"
  }
 },
 "nbformat": 4,
 "nbformat_minor": 5
}
