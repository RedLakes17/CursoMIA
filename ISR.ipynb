{
 "cells": [
  {
   "cell_type": "code",
   "execution_count": 8,
   "id": "df58136b",
   "metadata": {},
   "outputs": [
    {
     "name": "stdout",
     "output_type": "stream",
     "text": [
      "    nombre  ingreso_anual  ISR_anual\n",
      "0     Juan      328940.26   24200.13\n",
      "1  Beatriz      366423.07   33016.08\n",
      "2    Mario      332777.13   25102.56\n",
      "3  Valeria      344767.38   27922.67\n",
      "4   Ursula      354398.49   30187.90\n",
      "5  Ricardo      357902.36   31012.01\n",
      "6     Ivan      331041.14   24694.25\n",
      "7    Ramon      313402.14   20545.56\n",
      "8    Laura      350345.73   29234.69\n",
      "9  Antonio      338415.85   26428.79\n"
     ]
    }
   ],
   "source": [
    "import pandas as pd\n",
    "import random\n",
    "\n",
    "# Datos base\n",
    "nombres = ['Juan', 'Beatriz', 'Mario', 'Valeria', 'Ursula', 'Ricardo', 'Ivan', 'Ramon', 'Laura', 'Antonio']\n",
    "direcciones = ['Alicante 79', 'Juarez 34', 'Copilco 234', 'Galicia 16', 'Reforma 222', 'Cuahutemoc 34', 'Obrera 94', 'Morena 89', 'Cumbres 34', 'Potrero 87']\n",
    "telefonos = [\"+34 612 345 678\", \"+34 699 888 123\", \"+34 645 321 987\", \"+34 678 456 210\",\n",
    "             \"+34 690 123 456\", \"+34 611 789 234\", \"+34 622 234 567\", \"+34 633 987 654\",\n",
    "             \"+34 644 111 222\", \"+34 655 666 777\"]\n",
    "\n",
    "# Generar sueldos aleatorios mensuales\n",
    "def generar_sueldos():\n",
    "    return [round(random.uniform(18837.38, 38775.38), 2) for _ in range(12)]\n",
    "\n",
    "# Crear DataFrame\n",
    "columnas = [\"nombre\", \"direccion\", \"telefono\"] + [\n",
    "    \"enero\", \"febrero\", \"marzo\", \"abril\", \"mayo\", \"junio\",\n",
    "    \"julio\", \"agosto\", \"septiembre\", \"octubre\", \"noviembre\", \"diciembre\"\n",
    "]\n",
    "datos = []\n",
    "\n",
    "for i in range(10):\n",
    "    fila = [nombres[i], direcciones[i], telefonos[i]] + generar_sueldos()\n",
    "    datos.append(fila)\n",
    "\n",
    "df = pd.DataFrame(datos, columns=columnas)\n",
    "\n",
    "\n",
    "# Calcular ingresos anuales\n",
    "df[\"ingreso_anual\"] = df[[\n",
    "    \"enero\", \"febrero\", \"marzo\", \"abril\", \"mayo\", \"junio\",\n",
    "    \"julio\", \"agosto\", \"septiembre\", \"octubre\", \"noviembre\", \"diciembre\"\n",
    "]].sum(axis=1)\n",
    "\n",
    "\n",
    "# Cálculo de ISR según ejemplo\n",
    "limite_inferior = 18837.38\n",
    "porcentaje = 0.2352\n",
    "\n",
    "def calcular_isr_anual(row):\n",
    "    isr_total = 0\n",
    "    for mes in [\n",
    "        \"enero\", \"febrero\", \"marzo\", \"abril\", \"mayo\", \"junio\",\n",
    "        \"julio\", \"agosto\", \"septiembre\", \"octubre\", \"noviembre\", \"diciembre\"\n",
    "    ]:\n",
    "        excedente = row[mes] - limite_inferior\n",
    "        isr_mensual = porcentaje * excedente if excedente > 0 else 0\n",
    "        isr_total += isr_mensual\n",
    "    return round(isr_total, 2)\n",
    "\n",
    "df[\"ISR_anual\"] = df.apply(calcular_isr_anual, axis=1)\n",
    "\n",
    "print(df[[\"nombre\", \"ingreso_anual\", \"ISR_anual\"]])\n"
   ]
  }
 ],
 "metadata": {
  "kernelspec": {
   "display_name": "Python 3",
   "language": "python",
   "name": "python3"
  },
  "language_info": {
   "codemirror_mode": {
    "name": "ipython",
    "version": 3
   },
   "file_extension": ".py",
   "mimetype": "text/x-python",
   "name": "python",
   "nbconvert_exporter": "python",
   "pygments_lexer": "ipython3",
   "version": "3.11.9"
  }
 },
 "nbformat": 4,
 "nbformat_minor": 5
}
